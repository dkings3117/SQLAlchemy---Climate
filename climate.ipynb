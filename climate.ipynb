{
 "cells": [
  {
   "cell_type": "code",
   "execution_count": 1,
   "metadata": {},
   "outputs": [],
   "source": [
    "%matplotlib inline\n",
    "from matplotlib import style\n",
    "style.use('fivethirtyeight')\n",
    "import matplotlib.pyplot as plt"
   ]
  },
  {
   "cell_type": "code",
   "execution_count": 2,
   "metadata": {},
   "outputs": [],
   "source": [
    "import numpy as np\n",
    "import pandas as pd"
   ]
  },
  {
   "cell_type": "code",
   "execution_count": 3,
   "metadata": {},
   "outputs": [],
   "source": [
    "import datetime as dt"
   ]
  },
  {
   "cell_type": "markdown",
   "metadata": {},
   "source": [
    "# Reflect Tables into SQLAlchemy ORM"
   ]
  },
  {
   "cell_type": "code",
   "execution_count": 4,
   "metadata": {},
   "outputs": [],
   "source": [
    "# Python SQL toolkit and Object Relational Mapper\n",
    "import sqlalchemy\n",
    "from sqlalchemy.ext.automap import automap_base\n",
    "from sqlalchemy.orm import Session\n",
    "from sqlalchemy import create_engine, func"
   ]
  },
  {
   "cell_type": "code",
   "execution_count": 5,
   "metadata": {},
   "outputs": [],
   "source": [
    "engine = create_engine(\"sqlite:///Resources/hawaii.sqlite\")"
   ]
  },
  {
   "cell_type": "code",
   "execution_count": 6,
   "metadata": {},
   "outputs": [],
   "source": [
    "# reflect an existing database into a new model\n",
    "Base = automap_base()\n",
    "# reflect the tables\n",
    "Base.prepare(engine, reflect=True)"
   ]
  },
  {
   "cell_type": "code",
   "execution_count": 7,
   "metadata": {},
   "outputs": [
    {
     "data": {
      "text/plain": [
       "['measurement', 'station']"
      ]
     },
     "execution_count": 7,
     "metadata": {},
     "output_type": "execute_result"
    }
   ],
   "source": [
    "# We can view all of the classes that automap found\n",
    "Base.classes.keys()"
   ]
  },
  {
   "cell_type": "code",
   "execution_count": 8,
   "metadata": {},
   "outputs": [],
   "source": [
    "# Save references to each table\n",
    "Measurement = Base.classes.measurement\n",
    "Station = Base.classes.station"
   ]
  },
  {
   "cell_type": "code",
   "execution_count": null,
   "metadata": {},
   "outputs": [],
   "source": []
  },
  {
   "cell_type": "code",
   "execution_count": 9,
   "metadata": {},
   "outputs": [
    {
     "name": "stdout",
     "output_type": "stream",
     "text": [
      "id INTEGER\n",
      "station TEXT\n",
      "date TEXT\n",
      "prcp FLOAT\n",
      "tobs FLOAT\n"
     ]
    }
   ],
   "source": [
    "from sqlalchemy import inspect\n",
    "inspector = inspect(engine)\n",
    "\n",
    "columns = inspector.get_columns('measurement')\n",
    "for c in columns:\n",
    "    print(c['name'], c[\"type\"])"
   ]
  },
  {
   "cell_type": "code",
   "execution_count": 10,
   "metadata": {},
   "outputs": [
    {
     "name": "stdout",
     "output_type": "stream",
     "text": [
      "id INTEGER\n",
      "station TEXT\n",
      "name TEXT\n",
      "latitude FLOAT\n",
      "longitude FLOAT\n",
      "elevation FLOAT\n"
     ]
    }
   ],
   "source": [
    "columns = inspector.get_columns('station')\n",
    "for c in columns:\n",
    "    print(c['name'], c[\"type\"])"
   ]
  },
  {
   "cell_type": "code",
   "execution_count": 11,
   "metadata": {},
   "outputs": [],
   "source": [
    "# Create our session (link) from Python to the DB\n",
    "session = Session(engine)"
   ]
  },
  {
   "cell_type": "markdown",
   "metadata": {},
   "source": [
    "# Exploratory Climate Analysis"
   ]
  },
  {
   "cell_type": "code",
   "execution_count": 12,
   "metadata": {},
   "outputs": [
    {
     "name": "stdout",
     "output_type": "stream",
     "text": [
      "lastdate = 2017-08-23\n",
      "year_ago = 2016-08-23\n",
      "results_df:\n",
      "            date  prcp\n",
      "0     2016-08-23  0.00\n",
      "1009  2016-08-23   NaN\n",
      "1529  2016-08-23  1.79\n",
      "704   2016-08-23  0.05\n",
      "361   2016-08-23  0.15\n"
     ]
    },
    {
     "data": {
      "image/png": "[encoded data removed]",
      "text/plain": [
       "<Figure size 720x360 with 1 Axes>"
      ]
     },
     "metadata": {
      "needs_background": "light"
     },
     "output_type": "display_data"
    }
   ],
   "source": [
    "# Design a query to retrieve the last 12 months of precipitation data and plot the results\n",
    "\n",
    "sel = [Measurement.date, Measurement.prcp]\n",
    "\n",
    "# Calculate the date 1 year ago from the last data point in the database\n",
    "\n",
    "lastdate = session.query(Measurement.date).order_by(Measurement.date.desc()).first()[0]\n",
    "print(f\"lastdate = {lastdate}\")\n",
    "year, month, day = lastdate.split('-')\n",
    "year = str(int(year)-1)\n",
    "year_ago = year + '-' + month + '-' + day\n",
    "print(f\"year_ago = {year_ago}\")\n",
    "\n",
    "# Perform a query to retrieve the data and precipitation scores\n",
    "\n",
    "results = session.query(*sel).filter(Measurement.date >= year_ago).all()\n",
    "\n",
    "# Save the query results as a Pandas DataFrame and set the index to the date column\n",
    "\n",
    "results_df = pd.DataFrame(results)\n",
    "results_df.set_index('date')\n",
    "\n",
    "# Sort the dataframe by date\n",
    "\n",
    "results_df = results_df.sort_values(by='date')\n",
    "print('results_df:')\n",
    "print(results_df.head())\n",
    "\n",
    "# Use Pandas Plotting with Matplotlib to plot the data\n",
    "\n",
    "x_axis = results_df['date']\n",
    "y_axis = results_df['prcp']\n",
    "plt.figure(figsize=(10,5))\n",
    "precip = plt.bar(x_axis, y_axis)\n",
    "\n",
    "plt.tight_layout()\n",
    "\n",
    "# Create a legend\n",
    "plt.legend((precip), ('precipitation',), loc='upper center')\n",
    "\n",
    "# Save Figure\n",
    "plt.savefig(\"Images/Climate_precipitation.png\")\n",
    "plt.show()"
   ]
  },
  {
   "cell_type": "code",
   "execution_count": 13,
   "metadata": {},
   "outputs": [
    {
     "data": {
      "text/html": [
       "<div>\n",
       "<style scoped>\n",
       "    .dataframe tbody tr th:only-of-type {\n",
       "        vertical-align: middle;\n",
       "    }\n",
       "\n",
       "    .dataframe tbody tr th {\n",
       "        vertical-align: top;\n",
       "    }\n",
       "\n",
       "    .dataframe thead th {\n",
       "        text-align: right;\n",
       "    }\n",
       "</style>\n",
       "<table border=\"1\" class=\"dataframe\">\n",
       "  <thead>\n",
       "    <tr style=\"text-align: right;\">\n",
       "      <th></th>\n",
       "      <th>prcp</th>\n",
       "    </tr>\n",
       "  </thead>\n",
       "  <tbody>\n",
       "    <tr>\n",
       "      <th>count</th>\n",
       "      <td>2021.000000</td>\n",
       "    </tr>\n",
       "    <tr>\n",
       "      <th>mean</th>\n",
       "      <td>0.177279</td>\n",
       "    </tr>\n",
       "    <tr>\n",
       "      <th>std</th>\n",
       "      <td>0.461190</td>\n",
       "    </tr>\n",
       "    <tr>\n",
       "      <th>min</th>\n",
       "      <td>0.000000</td>\n",
       "    </tr>\n",
       "    <tr>\n",
       "      <th>25%</th>\n",
       "      <td>0.000000</td>\n",
       "    </tr>\n",
       "    <tr>\n",
       "      <th>50%</th>\n",
       "      <td>0.020000</td>\n",
       "    </tr>\n",
       "    <tr>\n",
       "      <th>75%</th>\n",
       "      <td>0.130000</td>\n",
       "    </tr>\n",
       "    <tr>\n",
       "      <th>max</th>\n",
       "      <td>6.700000</td>\n",
       "    </tr>\n",
       "  </tbody>\n",
       "</table>\n",
       "</div>"
      ],
      "text/plain": [
       "              prcp\n",
       "count  2021.000000\n",
       "mean      0.177279\n",
       "std       0.461190\n",
       "min       0.000000\n",
       "25%       0.000000\n",
       "50%       0.020000\n",
       "75%       0.130000\n",
       "max       6.700000"
      ]
     },
     "execution_count": 13,
     "metadata": {},
     "output_type": "execute_result"
    }
   ],
   "source": [
    "# Use Pandas to calcualte the summary statistics for the precipitation data\n",
    "\n",
    "results_df.describe()"
   ]
  },
  {
   "cell_type": "code",
   "execution_count": 14,
   "metadata": {},
   "outputs": [
    {
     "data": {
      "text/plain": [
       "9"
      ]
     },
     "execution_count": 14,
     "metadata": {},
     "output_type": "execute_result"
    }
   ],
   "source": [
    "# Design a query to show how many stations are available in this dataset?\n",
    "sel = [Station.id]\n",
    "results = session.query(*sel).count()\n",
    "results"
   ]
  },
  {
   "cell_type": "code",
   "execution_count": 15,
   "metadata": {},
   "outputs": [
    {
     "data": {
      "text/plain": [
       "[('USC00519281', 2772),\n",
       " ('USC00519397', 2724),\n",
       " ('USC00513117', 2709),\n",
       " ('USC00519523', 2669),\n",
       " ('USC00516128', 2612),\n",
       " ('USC00514830', 2202),\n",
       " ('USC00511918', 1979),\n",
       " ('USC00517948', 1372),\n",
       " ('USC00518838', 511)]"
      ]
     },
     "execution_count": 15,
     "metadata": {},
     "output_type": "execute_result"
    }
   ],
   "source": [
    "# What are the most active stations? (i.e. what stations have the most rows)?\n",
    "# List the stations and the counts in descending order.\n",
    "\n",
    "results = session.query(Station.station, func.count(Measurement.station)).\\\n",
    "    filter(Station.station == Measurement.station).\\\n",
    "    group_by(Station.station).\\\n",
    "    order_by(func.count(Measurement.station).desc()).all()\n",
    "results"
   ]
  },
  {
   "cell_type": "code",
   "execution_count": 16,
   "metadata": {},
   "outputs": [
    {
     "name": "stdout",
     "output_type": "stream",
     "text": [
      "Most active station: USC00519281\n"
     ]
    },
    {
     "data": {
      "text/plain": [
       "[(54.0, 85.0, 71.66378066378067)]"
      ]
     },
     "execution_count": 16,
     "metadata": {},
     "output_type": "execute_result"
    }
   ],
   "source": [
    "# Using the station id from the previous query, calculate the lowest temperature recorded, \n",
    "# highest temperature recorded, and average temperature of the most active station.\n",
    "\n",
    "most_active_station = results[0][0]\n",
    "print(f'Most active station: {most_active_station}')\n",
    "sel = [func.min(Measurement.tobs), func.max(Measurement.tobs), func.avg(Measurement.tobs)]\n",
    "station_results = session.query(*sel).\\\n",
    "    filter(Station.station == most_active_station).\\\n",
    "    filter(Station.station == Measurement.station).all()\n",
    "station_results"
   ]
  },
  {
   "cell_type": "code",
   "execution_count": 17,
   "metadata": {},
   "outputs": [
    {
     "name": "stdout",
     "output_type": "stream",
     "text": [
      "SELECT measurement.tobs, count(measurement.tobs) AS count_1 \n",
      "FROM measurement, station \n",
      "WHERE station.station = :station_1 AND station.station = measurement.station AND measurement.date >= :date_1 GROUP BY measurement.tobs\n",
      "\n",
      "tobs_df:\n",
      "    tobs  count_1\n",
      "0   59.0        3\n",
      "1   60.0        2\n",
      "2   61.0        1\n",
      "3   62.0        6\n",
      "4   63.0        4\n",
      "5   64.0        3\n",
      "6   65.0        7\n",
      "7   66.0        5\n",
      "8   67.0       15\n",
      "9   68.0       12\n",
      "10  69.0       19\n",
      "11  70.0       22\n",
      "12  71.0       18\n",
      "13  72.0       22\n",
      "14  73.0       18\n",
      "15  74.0       39\n",
      "16  75.0       33\n",
      "17  76.0       33\n",
      "18  77.0       31\n",
      "19  78.0       22\n",
      "20  79.0       18\n",
      "21  80.0       11\n",
      "22  81.0        4\n",
      "23  82.0        3\n",
      "24  83.0        1\n"
     ]
    },
    {
     "data": {
      "image/png": "[encoded data removed]",
      "text/plain": [
       "<Figure size 720x360 with 1 Axes>"
      ]
     },
     "metadata": {
      "needs_background": "light"
     },
     "output_type": "display_data"
    }
   ],
   "source": [
    "# Choose the station with the highest number of temperature observations.\n",
    "# Query the last 12 months of temperature observation data for this station and plot the results as a histogram\n",
    "\n",
    "tobs_results = session.query(Measurement.tobs, func.count(Measurement.tobs)).\\\n",
    "    filter(Station.station == most_active_station).\\\n",
    "    filter(Station.station == Measurement.station).\\\n",
    "    filter(Measurement.date >= year_ago).\\\n",
    "    group_by(Measurement.tobs).statement\n",
    "print(tobs_results)\n",
    "\n",
    "tobs_df = pd.read_sql_query(tobs_results, session.bind)\n",
    "print()\n",
    "print('tobs_df:')\n",
    "print(tobs_df)\n",
    "\n",
    "x_axis = tobs_df['tobs']\n",
    "y_axis = tobs_df['count_1']\n",
    "\n",
    "plt.figure(figsize=(10,5))\n",
    "tobs_hist = plt.hist(tobs_df.tobs, weights=tobs_df.count_1, bins=12)\n",
    "\n",
    "plt.ylabel('Frequency')\n",
    "plt.legend(('tobs',))\n",
    "\n",
    "plt.tight_layout()\n",
    "\n",
    "# Save Figure\n",
    "plt.savefig(\"Images/Climate_station_histogram.png\")\n",
    "plt.show()"
   ]
  },
  {
   "cell_type": "code",
   "execution_count": 18,
   "metadata": {},
   "outputs": [
    {
     "name": "stdout",
     "output_type": "stream",
     "text": [
      "[(62.0, 69.57142857142857, 74.0)]\n"
     ]
    }
   ],
   "source": [
    "# This function called `calc_temps` will accept start date and end date in the format '%Y-%m-%d' \n",
    "# and return the minimum, average, and maximum temperatures for that range of dates\n",
    "def calc_temps(start_date, end_date):\n",
    "    \"\"\"TMIN, TAVG, and TMAX for a list of dates.\n",
    "    \n",
    "    Args:\n",
    "        start_date (string): A date string in the format %Y-%m-%d\n",
    "        end_date (string): A date string in the format %Y-%m-%d\n",
    "        \n",
    "    Returns:\n",
    "        TMIN, TAVE, and TMAX\n",
    "    \"\"\"\n",
    "    \n",
    "    return session.query(func.min(Measurement.tobs), func.avg(Measurement.tobs), func.max(Measurement.tobs)).\\\n",
    "        filter(Measurement.date >= start_date).filter(Measurement.date <= end_date).all()\n",
    "\n",
    "# function usage example\n",
    "print(calc_temps('2012-02-28', '2012-03-05'))"
   ]
  },
  {
   "cell_type": "code",
   "execution_count": 19,
   "metadata": {},
   "outputs": [
    {
     "name": "stdout",
     "output_type": "stream",
     "text": [
      "[(64.0, 72.02777777777777, 78.0)]\n"
     ]
    }
   ],
   "source": [
    "# Use your previous function `calc_temps` to calculate the tmin, tavg, and tmax \n",
    "# for your trip using the previous year's data for those same dates.\n",
    "\n",
    "start_date = '2017-02-28'\n",
    "end_date = '2017-03-05'\n",
    "agg_results = calc_temps(start_date, end_date)\n",
    "print(agg_results)"
   ]
  },
  {
   "cell_type": "code",
   "execution_count": 20,
   "metadata": {},
   "outputs": [
    {
     "name": "stdout",
     "output_type": "stream",
     "text": [
      "72.02777777777777\n"
     ]
    },
    {
     "data": {
      "image/png": "[encoded data removed]",
      "text/plain": [
       "<Figure size 432x288 with 1 Axes>"
      ]
     },
     "metadata": {
      "needs_background": "light"
     },
     "output_type": "display_data"
    }
   ],
   "source": [
    "# Plot the results from your previous query as a bar chart. \n",
    "# Use \"Trip Avg Temp\" as your Title\n",
    "# Use the average temperature for the y value\n",
    "# Use the peak-to-peak (tmax-tmin) value as the y error bar (yerr)\n",
    "\n",
    "print(agg_results[0][1])\n",
    "\n",
    "# Use Pandas Plotting with Matplotlib to plot the data\n",
    "\n",
    "x_axis = 0\n",
    "y_axis = agg_results[0][1]\n",
    "\n",
    "means = [agg_results[0][1]]\n",
    "\n",
    "yerr = [agg_results[0][2] - agg_results[0][1]]\n",
    "\n",
    "# Plot sample means with error bars\n",
    "fig, ax = plt.subplots()\n",
    "\n",
    "ax.errorbar(np.arange(0, 1), means, yerr=yerr, fmt=\"o\", color=\"b\",\n",
    "            alpha=0.5, label=\"Trip avg Time\")\n",
    "\n",
    "plt.bar(x_axis, y_axis)\n",
    "plt.title('Trip Avg Time')\n",
    "\n",
    "plt.tight_layout()\n",
    "\n",
    "# Save Figure\n",
    "plt.savefig(\"Images/Climate_temperature.png\")\n",
    "plt.show()"
   ]
  },
  {
   "cell_type": "code",
   "execution_count": 21,
   "metadata": {},
   "outputs": [
    {
     "data": {
      "text/plain": [
       "[('USC00519281',\n",
       "  'WAIHEE 837.5, HI US',\n",
       "  21.45167,\n",
       "  -157.84888999999998,\n",
       "  32.9,\n",
       "  4.720000000000001),\n",
       " ('USC00513117', 'KANEOHE 838.1, HI US', 21.4234, -157.8015, 14.6, 4.45),\n",
       " ('USC00516128',\n",
       "  'MANOA LYON ARBO 785.2, HI US',\n",
       "  21.3331,\n",
       "  -157.8025,\n",
       "  152.4,\n",
       "  4.07),\n",
       " ('USC00517948', 'PEARL CITY, HI US', 21.3934, -157.9751, 11.9, 2.98),\n",
       " ('USC00519397',\n",
       "  'WAIKIKI 717.2, HI US',\n",
       "  21.2716,\n",
       "  -157.8168,\n",
       "  3.0,\n",
       "  2.7399999999999998),\n",
       " ('USC00519523',\n",
       "  'WAIMANALO EXPERIMENTAL FARM, HI US',\n",
       "  21.33556,\n",
       "  -157.71139,\n",
       "  19.5,\n",
       "  2.32),\n",
       " ('USC00514830',\n",
       "  'KUALOA RANCH HEADQUARTERS 886.9, HI US',\n",
       "  21.5213,\n",
       "  -157.8374,\n",
       "  7.0,\n",
       "  1.1600000000000001)]"
      ]
     },
     "execution_count": 21,
     "metadata": {},
     "output_type": "execute_result"
    }
   ],
   "source": [
    "# Calculate the rainfall per weather station for your trip dates using the previous year's matching dates.\n",
    "# Sort this in descending order by precipitation amount and list the station, name, latitude, longitude, and elevation\n",
    "\n",
    "# start_date = '2011-02-28'\n",
    "# end_date = '2011-03-05'\n",
    "sel = [Station.station, Station.name, Station.latitude, Station.longitude, Station.elevation, func.sum(Measurement.prcp)]\n",
    "results = session.query(*sel).\\\n",
    "    filter(Station.station == Measurement.station).\\\n",
    "    filter(Measurement.date >= start_date).filter(Measurement.date <= end_date).\\\n",
    "    group_by(Station.station, Station.name, Station.latitude, Station.longitude, Station.elevation).\\\n",
    "    order_by(func.sum(Measurement.prcp).desc()).all()\n",
    "results"
   ]
  },
  {
   "cell_type": "markdown",
   "metadata": {},
   "source": [
    "## Optional Challenge Assignment"
   ]
  },
  {
   "cell_type": "code",
   "execution_count": 22,
   "metadata": {},
   "outputs": [
    {
     "data": {
      "text/plain": [
       "[(62.0, 69.15384615384616, 77.0)]"
      ]
     },
     "execution_count": 22,
     "metadata": {},
     "output_type": "execute_result"
    }
   ],
   "source": [
    "# Create a query that will calculate the daily normals \n",
    "# (i.e. the averages for tmin, tmax, and tavg for all historic data matching a specific month and day)\n",
    "\n",
    "def daily_normals(date):\n",
    "    \"\"\"Daily Normals.\n",
    "    \n",
    "    Args:\n",
    "        date (str): A date string in the format '%m-%d'\n",
    "        \n",
    "    Returns:\n",
    "        A list of tuples containing the daily normals, tmin, tavg, and tmax\n",
    "    \n",
    "    \"\"\"\n",
    "    \n",
    "    sel = [func.min(Measurement.tobs), func.avg(Measurement.tobs), func.max(Measurement.tobs)]\n",
    "    return session.query(*sel).filter(func.strftime(\"%m-%d\", Measurement.date) == date).all()\n",
    "    \n",
    "daily_normals(\"01-01\")"
   ]
  },
  {
   "cell_type": "code",
   "execution_count": 23,
   "metadata": {},
   "outputs": [
    {
     "name": "stdout",
     "output_type": "stream",
     "text": [
      "2018-02-28\n",
      "2018-03-01\n",
      "2018-03-02\n",
      "2018-03-03\n",
      "2018-03-04\n",
      "2018-03-05\n",
      "['2018-02-28', '2018-03-01', '2018-03-02', '2018-03-03', '2018-03-04', '2018-03-05']\n",
      "['02-28', '03-01', '03-02', '03-03', '03-04', '03-05']\n",
      "[65.0, 64.0, 61.0, 60.0, 57.0, 60.0]\n",
      "[70.65517241379311, 70.0327868852459, 70.36666666666666, 70.06896551724138, 69.27272727272727, 67.89090909090909]\n",
      "[80.0, 76.0, 78.0, 78.0, 77.0, 76.0]\n"
     ]
    },
    {
     "data": {
      "text/plain": [
       "[(65.0, 70.65517241379311, 80.0),\n",
       " (64.0, 70.0327868852459, 76.0),\n",
       " (61.0, 70.36666666666666, 78.0),\n",
       " (60.0, 70.06896551724138, 78.0),\n",
       " (57.0, 69.27272727272727, 77.0),\n",
       " (60.0, 67.89090909090909, 76.0)]"
      ]
     },
     "execution_count": 23,
     "metadata": {},
     "output_type": "execute_result"
    }
   ],
   "source": [
    "# calculate the daily normals for your trip\n",
    "# push each tuple of calculations into a list called `normals`\n",
    "\n",
    "# Set the start and end date of the trip\n",
    "start_date = '2018-02-28'\n",
    "end_date = '2018-03-05'\n",
    "\n",
    "# Use the start and end date to create a range of dates\n",
    "from datetime import date, timedelta\n",
    "\n",
    "year1, month1, day1 = start_date.split('-')\n",
    "d1 = date(int(year1), int(month1), int(day1))  # start date\n",
    "year2, month2, day2 = end_date.split('-')\n",
    "d2 = date(int(year2), int(month2), int(day2))  # end date\n",
    "\n",
    "delta = d2 - d1         # timedelta\n",
    "\n",
    "trip_dates = []\n",
    "for i in range(delta.days + 1):\n",
    "    print(d1 + timedelta(i))\n",
    "    trip_dates.append(str(d1 + timedelta(i)))\n",
    "\n",
    "print(trip_dates)\n",
    "\n",
    "# Stip off the year and save a list of %m-%d strings\n",
    "date_list = []\n",
    "for i in range(len(trip_dates)):\n",
    "    year, month, day = trip_dates[i].split('-')\n",
    "    date_list.append(month + '-' + day)\n",
    "\n",
    "print(date_list)\n",
    "\n",
    "# Loop through the list of %m-%d strings and calculate the normals for each date\n",
    "normals = []\n",
    "tmin_list = []\n",
    "tavg_list = []\n",
    "tmax_list = []\n",
    "for i in range(len(date_list)):\n",
    "    norm = daily_normals(date_list[i])[0]\n",
    "    normals.append(norm)\n",
    "    tmin_list.append(norm[0])\n",
    "    tavg_list.append(norm[1])\n",
    "    tmax_list.append(norm[2])\n",
    "\n",
    "\n",
    "print(tmin_list)\n",
    "print(tavg_list)\n",
    "print(tmax_list)\n",
    "normals"
   ]
  },
  {
   "cell_type": "code",
   "execution_count": 24,
   "metadata": {},
   "outputs": [
    {
     "data": {
      "text/html": [
       "<div>\n",
       "<style scoped>\n",
       "    .dataframe tbody tr th:only-of-type {\n",
       "        vertical-align: middle;\n",
       "    }\n",
       "\n",
       "    .dataframe tbody tr th {\n",
       "        vertical-align: top;\n",
       "    }\n",
       "\n",
       "    .dataframe thead th {\n",
       "        text-align: right;\n",
       "    }\n",
       "</style>\n",
       "<table border=\"1\" class=\"dataframe\">\n",
       "  <thead>\n",
       "    <tr style=\"text-align: right;\">\n",
       "      <th></th>\n",
       "      <th>tmin</th>\n",
       "      <th>tavg</th>\n",
       "      <th>tmax</th>\n",
       "    </tr>\n",
       "    <tr>\n",
       "      <th>date</th>\n",
       "      <th></th>\n",
       "      <th></th>\n",
       "      <th></th>\n",
       "    </tr>\n",
       "  </thead>\n",
       "  <tbody>\n",
       "    <tr>\n",
       "      <th>2018-02-28</th>\n",
       "      <td>65.0</td>\n",
       "      <td>70.655172</td>\n",
       "      <td>80.0</td>\n",
       "    </tr>\n",
       "    <tr>\n",
       "      <th>2018-03-01</th>\n",
       "      <td>64.0</td>\n",
       "      <td>70.032787</td>\n",
       "      <td>76.0</td>\n",
       "    </tr>\n",
       "    <tr>\n",
       "      <th>2018-03-02</th>\n",
       "      <td>61.0</td>\n",
       "      <td>70.366667</td>\n",
       "      <td>78.0</td>\n",
       "    </tr>\n",
       "    <tr>\n",
       "      <th>2018-03-03</th>\n",
       "      <td>60.0</td>\n",
       "      <td>70.068966</td>\n",
       "      <td>78.0</td>\n",
       "    </tr>\n",
       "    <tr>\n",
       "      <th>2018-03-04</th>\n",
       "      <td>57.0</td>\n",
       "      <td>69.272727</td>\n",
       "      <td>77.0</td>\n",
       "    </tr>\n",
       "    <tr>\n",
       "      <th>2018-03-05</th>\n",
       "      <td>60.0</td>\n",
       "      <td>67.890909</td>\n",
       "      <td>76.0</td>\n",
       "    </tr>\n",
       "  </tbody>\n",
       "</table>\n",
       "</div>"
      ],
      "text/plain": [
       "            tmin       tavg  tmax\n",
       "date                             \n",
       "2018-02-28  65.0  70.655172  80.0\n",
       "2018-03-01  64.0  70.032787  76.0\n",
       "2018-03-02  61.0  70.366667  78.0\n",
       "2018-03-03  60.0  70.068966  78.0\n",
       "2018-03-04  57.0  69.272727  77.0\n",
       "2018-03-05  60.0  67.890909  76.0"
      ]
     },
     "execution_count": 24,
     "metadata": {},
     "output_type": "execute_result"
    }
   ],
   "source": [
    "# Load the previous query results into a Pandas DataFrame and add the `trip_dates` range as the `date` index\n",
    "\n",
    "import datetime\n",
    "\n",
    "start_dt = datetime.datetime.strptime(start_date, '%Y-%m-%d').date()\n",
    "end_dt = datetime.datetime.strptime(end_date, '%Y-%m-%d').date()\n",
    "daterange = pd.date_range(start_dt, end_dt)\n",
    "\n",
    "trip_df = pd.DataFrame( {\n",
    "    \"date\": daterange,\n",
    "    \"tmin\": tmin_list,\n",
    "    \"tavg\": tavg_list,\n",
    "    \"tmax\": tmax_list\n",
    "    } )\n",
    "trip_df = trip_df.set_index('date')\n",
    "trip_df"
   ]
  },
  {
   "cell_type": "code",
   "execution_count": 25,
   "metadata": {},
   "outputs": [
    {
     "data": {
      "image/png": "[encoded data removed]",
      "text/plain": [
       "<Figure size 720x360 with 1 Axes>"
      ]
     },
     "metadata": {
      "needs_background": "light"
     },
     "output_type": "display_data"
    }
   ],
   "source": [
    "# Plot the daily normals as an area plot with `stacked=False`\n",
    "\n",
    "plt.figure(figsize=(10,5))\n",
    "plt.tight_layout()\n",
    "\n",
    "plot=trip_df.plot.area(xticks=trip_df.index.date, stacked = False, grid=1, ax=plt.gca())\n",
    "\n",
    "fig = plot.get_figure()\n",
    "\n",
    "# Save Figure\n",
    "fig.savefig(\"Images/Climate_daily_normals.png\")\n",
    "\n",
    "plt.show()"
   ]
  },
  {
   "cell_type": "code",
   "execution_count": null,
   "metadata": {},
   "outputs": [],
   "source": []
  }
 ],
 "metadata": {
  "kernel_info": {
   "name": "python3"
  },
  "kernelspec": {
   "display_name": "Python 3",
   "language": "python",
   "name": "python3"
  },
  "language_info": {
   "codemirror_mode": {
    "name": "ipython",
    "version": 3
   },
   "file_extension": ".py",
   "mimetype": "text/x-python",
   "name": "python",
   "nbconvert_exporter": "python",
   "pygments_lexer": "ipython3",
   "version": "3.7.0"
  },
  "nteract": {
   "version": "0.9.1"
  },
  "varInspector": {
   "cols": {
    "lenName": 16,
    "lenType": 16,
    "lenVar": 40
   },
   "kernels_config": {
    "python": {
     "delete_cmd_postfix": "",
     "delete_cmd_prefix": "del ",
     "library": "var_list.py",
     "varRefreshCmd": "print(var_dic_list())"
    },
    "r": {
     "delete_cmd_postfix": ") ",
     "delete_cmd_prefix": "rm(",
     "library": "var_list.r",
     "varRefreshCmd": "cat(var_dic_list()) "
    }
   },
   "types_to_exclude": [
    "module",
    "function",
    "builtin_function_or_method",
    "instance",
    "_Feature"
   ],
   "window_display": false
  }
 },
 "nbformat": 4,
 "nbformat_minor": 2
}
